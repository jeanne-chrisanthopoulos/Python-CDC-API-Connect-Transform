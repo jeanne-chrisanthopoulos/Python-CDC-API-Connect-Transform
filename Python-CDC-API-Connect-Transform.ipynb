{
 "cells": [
  {
   "attachments": {},
   "cell_type": "markdown",
   "metadata": {},
   "source": [
    "The purpose of this project is to access Weekly Rates of Laboratory-Confirmed RSV Hospitalizations through the CDC public API. Transform the data in preprocessing. Gather insights and then we can integrate it into private corporate data."
   ]
  },
  {
   "attachments": {},
   "cell_type": "markdown",
   "metadata": {},
   "source": [
    "#create token online https://data.cdc.gov/login\n",
    "\n",
    "Weekly RSV Hospitalizations: https://data.cdc.gov/Public-Health-Surveillance/Weekly-Rates-of-Laboratory-Confirmed-RSV-Hospitali/29hc-w46k/about_data\n",
    "\n",
    "API Filtering: https://dev.socrata.com/docs/endpoints.html"
   ]
  },
  {
   "cell_type": "code",
   "execution_count": 1,
   "metadata": {},
   "outputs": [],
   "source": [
    "#Import dependencies\n",
    "import pandas as pd\n",
    "import numpy as np\n",
    "import requests\n",
    "import json\n",
    "from pandas import json_normalize\n",
    "import seaborn as sns\n",
    "import matplotlib.pyplot as plt\n",
    "from config import token"
   ]
  },
  {
   "cell_type": "code",
   "execution_count": 2,
   "metadata": {},
   "outputs": [
    {
     "name": "stdout",
     "output_type": "stream",
     "text": [
      "Data for age category '0-17 years (Children)': 7800\n",
      "Data for age category '18+ years (Adults)': 7800\n",
      "Combined DataFrame:\n",
      "             state   season week_ending_date           age_category  sex  \\\n",
      "0             Utah  2022-23       2023-01-07  0-17 years (Children)  All   \n",
      "1             Utah  2022-23       2023-01-07  0-17 years (Children)  All   \n",
      "2             Utah  2022-23       2023-01-07  0-17 years (Children)  All   \n",
      "3             Utah  2022-23       2023-01-07  0-17 years (Children)  All   \n",
      "4             Utah  2022-23       2023-01-07  0-17 years (Children)  All   \n",
      "...            ...      ...              ...                    ...  ...   \n",
      "15595      Georgia  2023-24       2024-06-08     18+ years (Adults)  All   \n",
      "15596  Connecticut  2023-24       2024-06-08     18+ years (Adults)  All   \n",
      "15597     Colorado  2023-24       2024-06-08     18+ years (Adults)  All   \n",
      "15598   California  2023-24       2024-06-08     18+ years (Adults)  All   \n",
      "15599      RSV-NET  2023-24       2024-06-08     18+ years (Adults)  All   \n",
      "\n",
      "                      race  rate cumulative_rate  \n",
      "0                 Hispanic  12.7           266.0  \n",
      "1       A/PI, non-Hispanic   0.0           315.4  \n",
      "2      AI/AN, non-Hispanic   0.0           405.6  \n",
      "3      Black, non-Hispanic   0.0           369.0  \n",
      "4      White, non-Hispanic   3.9           209.7  \n",
      "...                    ...   ...             ...  \n",
      "15595                  All   0.1            36.0  \n",
      "15596                  All   0.1            69.0  \n",
      "15597                  All   0.0            29.0  \n",
      "15598                  All   0.0            29.8  \n",
      "15599                  All   0.0            33.7  \n",
      "\n",
      "[15600 rows x 8 columns]\n"
     ]
    }
   ],
   "source": [
    "#filter data to retrieve only what is needed.\n",
    "ages_for_filter = ['0-17 years (Children)', '18+ years (Adults)']\n",
    "filter_date_float = \"$where=week_ending_date>='2023-01-01T00:00:00.000'\"\n",
    "row_filter = \"&$limit=150000\"\n",
    "\n",
    "base_url = 'https://data.cdc.gov/resource/29hc-w46k.json'\n",
    "headers = {'X-App-Token': token, 'accept': 'application/json'}\n",
    "\n",
    "response = requests.get(base_url + '?' + filter_date_float + row_filter, headers=headers)\n",
    "\n",
    "# Check the response status code\n",
    "if response.status_code == 200:\n",
    "    data = response.json()\n",
    "\n",
    "    # Create an empty list to store DataFrames\n",
    "    dfs = []\n",
    "\n",
    "    for age_category in ages_for_filter:\n",
    "        filtered_data = [item for item in data if item['age_category'] == age_category]\n",
    "\n",
    "        # Convert the filtered data to a DataFrame\n",
    "        df_age_category = pd.DataFrame(filtered_data)\n",
    "\n",
    "        # Add a column to indicate the age category\n",
    "        df_age_category['age_category'] = age_category\n",
    "\n",
    "        # Append the DataFrame to the list\n",
    "        dfs.append(df_age_category)\n",
    "\n",
    "        # Process the filtered data as needed\n",
    "        print(f\"Data for age category '{age_category}': {len(filtered_data)}\")\n",
    "\n",
    "    # Concatenate all DataFrames in the list\n",
    "    df = pd.concat(dfs, ignore_index=True)\n",
    "\n",
    "    # Now, df contains all the data in a single DataFrame\n",
    "    print(\"Combined DataFrame:\")\n",
    "    print(df)\n",
    "\n",
    "    # You can save the DataFrame to a CSV file if needed\n",
    "else:\n",
    "    print(f\"Error in fetching data: {response.status_code}\")\n"
   ]
  },
  {
   "cell_type": "code",
   "execution_count": 3,
   "metadata": {},
   "outputs": [
    {
     "data": {
      "text/html": [
       "<div>\n",
       "<style scoped>\n",
       "    .dataframe tbody tr th:only-of-type {\n",
       "        vertical-align: middle;\n",
       "    }\n",
       "\n",
       "    .dataframe tbody tr th {\n",
       "        vertical-align: top;\n",
       "    }\n",
       "\n",
       "    .dataframe thead th {\n",
       "        text-align: right;\n",
       "    }\n",
       "</style>\n",
       "<table border=\"1\" class=\"dataframe\">\n",
       "  <thead>\n",
       "    <tr style=\"text-align: right;\">\n",
       "      <th></th>\n",
       "      <th>state</th>\n",
       "      <th>season</th>\n",
       "      <th>week_ending_date</th>\n",
       "      <th>age_category</th>\n",
       "      <th>sex</th>\n",
       "      <th>race</th>\n",
       "      <th>rate</th>\n",
       "      <th>cumulative_rate</th>\n",
       "    </tr>\n",
       "  </thead>\n",
       "  <tbody>\n",
       "    <tr>\n",
       "      <th>0</th>\n",
       "      <td>Utah</td>\n",
       "      <td>2022-23</td>\n",
       "      <td>2023-01-07</td>\n",
       "      <td>0-17 years (Children)</td>\n",
       "      <td>All</td>\n",
       "      <td>Hispanic</td>\n",
       "      <td>12.7</td>\n",
       "      <td>266.0</td>\n",
       "    </tr>\n",
       "    <tr>\n",
       "      <th>1</th>\n",
       "      <td>Utah</td>\n",
       "      <td>2022-23</td>\n",
       "      <td>2023-01-07</td>\n",
       "      <td>0-17 years (Children)</td>\n",
       "      <td>All</td>\n",
       "      <td>A/PI, non-Hispanic</td>\n",
       "      <td>0.0</td>\n",
       "      <td>315.4</td>\n",
       "    </tr>\n",
       "    <tr>\n",
       "      <th>2</th>\n",
       "      <td>Utah</td>\n",
       "      <td>2022-23</td>\n",
       "      <td>2023-01-07</td>\n",
       "      <td>0-17 years (Children)</td>\n",
       "      <td>All</td>\n",
       "      <td>AI/AN, non-Hispanic</td>\n",
       "      <td>0.0</td>\n",
       "      <td>405.6</td>\n",
       "    </tr>\n",
       "    <tr>\n",
       "      <th>3</th>\n",
       "      <td>Utah</td>\n",
       "      <td>2022-23</td>\n",
       "      <td>2023-01-07</td>\n",
       "      <td>0-17 years (Children)</td>\n",
       "      <td>All</td>\n",
       "      <td>Black, non-Hispanic</td>\n",
       "      <td>0.0</td>\n",
       "      <td>369.0</td>\n",
       "    </tr>\n",
       "    <tr>\n",
       "      <th>4</th>\n",
       "      <td>Utah</td>\n",
       "      <td>2022-23</td>\n",
       "      <td>2023-01-07</td>\n",
       "      <td>0-17 years (Children)</td>\n",
       "      <td>All</td>\n",
       "      <td>White, non-Hispanic</td>\n",
       "      <td>3.9</td>\n",
       "      <td>209.7</td>\n",
       "    </tr>\n",
       "  </tbody>\n",
       "</table>\n",
       "</div>"
      ],
      "text/plain": [
       "  state   season week_ending_date           age_category  sex  \\\n",
       "0  Utah  2022-23       2023-01-07  0-17 years (Children)  All   \n",
       "1  Utah  2022-23       2023-01-07  0-17 years (Children)  All   \n",
       "2  Utah  2022-23       2023-01-07  0-17 years (Children)  All   \n",
       "3  Utah  2022-23       2023-01-07  0-17 years (Children)  All   \n",
       "4  Utah  2022-23       2023-01-07  0-17 years (Children)  All   \n",
       "\n",
       "                  race  rate cumulative_rate  \n",
       "0             Hispanic  12.7           266.0  \n",
       "1   A/PI, non-Hispanic   0.0           315.4  \n",
       "2  AI/AN, non-Hispanic   0.0           405.6  \n",
       "3  Black, non-Hispanic   0.0           369.0  \n",
       "4  White, non-Hispanic   3.9           209.7  "
      ]
     },
     "execution_count": 3,
     "metadata": {},
     "output_type": "execute_result"
    }
   ],
   "source": [
    "df.head()"
   ]
  },
  {
   "cell_type": "code",
   "execution_count": 4,
   "metadata": {},
   "outputs": [
    {
     "name": "stdout",
     "output_type": "stream",
     "text": [
      "the min date is: 2023-01-07 and the max date is: 2024-06-08\n"
     ]
    }
   ],
   "source": [
    "#Asess Date Range\n",
    "print(f'the min date is: {df[\"week_ending_date\"].min()} and the max date is: {df[\"week_ending_date\"].max()}')"
   ]
  },
  {
   "attachments": {},
   "cell_type": "markdown",
   "metadata": {},
   "source": [
    "Check Data Output"
   ]
  },
  {
   "cell_type": "code",
   "execution_count": 5,
   "metadata": {},
   "outputs": [
    {
     "data": {
      "text/plain": [
       "array(['0-17 years (Children)', '18+ years (Adults)'], dtype=object)"
      ]
     },
     "execution_count": 5,
     "metadata": {},
     "output_type": "execute_result"
    }
   ],
   "source": [
    "df['age_category'].unique()"
   ]
  },
  {
   "cell_type": "code",
   "execution_count": 6,
   "metadata": {},
   "outputs": [
    {
     "data": {
      "text/plain": [
       "array(['Hispanic', 'A/PI, non-Hispanic', 'AI/AN, non-Hispanic',\n",
       "       'Black, non-Hispanic', 'White, non-Hispanic', 'All'], dtype=object)"
      ]
     },
     "execution_count": 6,
     "metadata": {},
     "output_type": "execute_result"
    }
   ],
   "source": [
    "df['race'].unique()"
   ]
  },
  {
   "cell_type": "code",
   "execution_count": 7,
   "metadata": {},
   "outputs": [
    {
     "data": {
      "text/plain": [
       "array(['All', 'Female', 'Male'], dtype=object)"
      ]
     },
     "execution_count": 7,
     "metadata": {},
     "output_type": "execute_result"
    }
   ],
   "source": [
    "df['sex'].unique()"
   ]
  },
  {
   "cell_type": "code",
   "execution_count": 8,
   "metadata": {},
   "outputs": [
    {
     "data": {
      "text/plain": [
       "array(['Utah', 'Tennessee', 'Oregon', 'New York', 'New Mexico',\n",
       "       'Minnesota', 'Michigan', 'Maryland', 'Georgia', 'Connecticut',\n",
       "       'Colorado', 'California', 'RSV-NET'], dtype=object)"
      ]
     },
     "execution_count": 8,
     "metadata": {},
     "output_type": "execute_result"
    }
   ],
   "source": [
    "df['state'].unique()"
   ]
  },
  {
   "cell_type": "code",
   "execution_count": 9,
   "metadata": {},
   "outputs": [],
   "source": [
    "filtered_df = df[~(df['state'] == 'RSV-NET')]\n",
    "#filtered_df['state'].unique()\n",
    "df = filtered_df"
   ]
  },
  {
   "cell_type": "code",
   "execution_count": 10,
   "metadata": {},
   "outputs": [
    {
     "data": {
      "text/html": [
       "<div>\n",
       "<style scoped>\n",
       "    .dataframe tbody tr th:only-of-type {\n",
       "        vertical-align: middle;\n",
       "    }\n",
       "\n",
       "    .dataframe tbody tr th {\n",
       "        vertical-align: top;\n",
       "    }\n",
       "\n",
       "    .dataframe thead th {\n",
       "        text-align: right;\n",
       "    }\n",
       "</style>\n",
       "<table border=\"1\" class=\"dataframe\">\n",
       "  <thead>\n",
       "    <tr style=\"text-align: right;\">\n",
       "      <th></th>\n",
       "      <th>rate</th>\n",
       "      <th>cumulative_rate</th>\n",
       "    </tr>\n",
       "  </thead>\n",
       "  <tbody>\n",
       "    <tr>\n",
       "      <th>count</th>\n",
       "      <td>14400</td>\n",
       "      <td>14400</td>\n",
       "    </tr>\n",
       "    <tr>\n",
       "      <th>unique</th>\n",
       "      <td>264</td>\n",
       "      <td>2141</td>\n",
       "    </tr>\n",
       "    <tr>\n",
       "      <th>top</th>\n",
       "      <td>0.0</td>\n",
       "      <td>0.0</td>\n",
       "    </tr>\n",
       "    <tr>\n",
       "      <th>freq</th>\n",
       "      <td>7834</td>\n",
       "      <td>797</td>\n",
       "    </tr>\n",
       "  </tbody>\n",
       "</table>\n",
       "</div>"
      ],
      "text/plain": [
       "         rate cumulative_rate\n",
       "count   14400           14400\n",
       "unique    264            2141\n",
       "top       0.0             0.0\n",
       "freq     7834             797"
      ]
     },
     "execution_count": 10,
     "metadata": {},
     "output_type": "execute_result"
    }
   ],
   "source": [
    "df.iloc[:,6:8].describe()"
   ]
  },
  {
   "cell_type": "code",
   "execution_count": 11,
   "metadata": {},
   "outputs": [
    {
     "name": "stdout",
     "output_type": "stream",
     "text": [
      "<class 'pandas.core.frame.DataFrame'>\n",
      "Index: 14400 entries, 0 to 15598\n",
      "Data columns (total 8 columns):\n",
      " #   Column            Non-Null Count  Dtype \n",
      "---  ------            --------------  ----- \n",
      " 0   state             14400 non-null  object\n",
      " 1   season            14400 non-null  object\n",
      " 2   week_ending_date  14400 non-null  object\n",
      " 3   age_category      14400 non-null  object\n",
      " 4   sex               14400 non-null  object\n",
      " 5   race              14400 non-null  object\n",
      " 6   rate              14400 non-null  object\n",
      " 7   cumulative_rate   14400 non-null  object\n",
      "dtypes: object(8)\n",
      "memory usage: 1012.5+ KB\n"
     ]
    }
   ],
   "source": [
    "df.info()"
   ]
  },
  {
   "attachments": {},
   "cell_type": "markdown",
   "metadata": {},
   "source": [
    "# Dealing with Data Types + Add new Columns"
   ]
  },
  {
   "cell_type": "code",
   "execution_count": 12,
   "metadata": {},
   "outputs": [],
   "source": [
    "df['rate'] = pd.to_numeric(df['rate'], errors='coerce')\n",
    "df['cumulative_rate'] = pd.to_numeric(df['rate'], errors='coerce')"
   ]
  },
  {
   "cell_type": "code",
   "execution_count": 13,
   "metadata": {},
   "outputs": [],
   "source": [
    "#convert into a date\n",
    "df['week_ending_date'] = pd.to_datetime(df['week_ending_date'], format='%Y-%m-%d')"
   ]
  },
  {
   "cell_type": "code",
   "execution_count": 14,
   "metadata": {},
   "outputs": [],
   "source": [
    "#create a new month and weekday column\n",
    "df['month'] = df['week_ending_date'].dt.month\n",
    "df['weekday'] = df['week_ending_date'].dt.day_name()"
   ]
  },
  {
   "cell_type": "code",
   "execution_count": 15,
   "metadata": {},
   "outputs": [],
   "source": [
    "#Create new column for hispanic pop vs non/all\n",
    "mask = ~df['race'].str.contains('non-hispanic|all', case=False, na=False)\n",
    "\n",
    "# Create a new column 'hispanic' and set it to 1 where the mask is True\n",
    "df['hispanic'] = 0\n",
    "df.loc[mask, 'hispanic'] = 1"
   ]
  },
  {
   "cell_type": "code",
   "execution_count": 16,
   "metadata": {},
   "outputs": [
    {
     "data": {
      "text/html": [
       "<div>\n",
       "<style scoped>\n",
       "    .dataframe tbody tr th:only-of-type {\n",
       "        vertical-align: middle;\n",
       "    }\n",
       "\n",
       "    .dataframe tbody tr th {\n",
       "        vertical-align: top;\n",
       "    }\n",
       "\n",
       "    .dataframe thead th {\n",
       "        text-align: right;\n",
       "    }\n",
       "</style>\n",
       "<table border=\"1\" class=\"dataframe\">\n",
       "  <thead>\n",
       "    <tr style=\"text-align: right;\">\n",
       "      <th></th>\n",
       "      <th>state</th>\n",
       "      <th>season</th>\n",
       "      <th>week_ending_date</th>\n",
       "      <th>age_category</th>\n",
       "      <th>sex</th>\n",
       "      <th>race</th>\n",
       "      <th>rate</th>\n",
       "      <th>cumulative_rate</th>\n",
       "      <th>month</th>\n",
       "      <th>weekday</th>\n",
       "      <th>hispanic</th>\n",
       "    </tr>\n",
       "  </thead>\n",
       "  <tbody>\n",
       "    <tr>\n",
       "      <th>0</th>\n",
       "      <td>Utah</td>\n",
       "      <td>2022-23</td>\n",
       "      <td>2023-01-07</td>\n",
       "      <td>0-17 years (Children)</td>\n",
       "      <td>All</td>\n",
       "      <td>Hispanic</td>\n",
       "      <td>12.7</td>\n",
       "      <td>12.7</td>\n",
       "      <td>1</td>\n",
       "      <td>Saturday</td>\n",
       "      <td>1</td>\n",
       "    </tr>\n",
       "    <tr>\n",
       "      <th>1</th>\n",
       "      <td>Utah</td>\n",
       "      <td>2022-23</td>\n",
       "      <td>2023-01-07</td>\n",
       "      <td>0-17 years (Children)</td>\n",
       "      <td>All</td>\n",
       "      <td>A/PI, non-Hispanic</td>\n",
       "      <td>0.0</td>\n",
       "      <td>0.0</td>\n",
       "      <td>1</td>\n",
       "      <td>Saturday</td>\n",
       "      <td>0</td>\n",
       "    </tr>\n",
       "    <tr>\n",
       "      <th>2</th>\n",
       "      <td>Utah</td>\n",
       "      <td>2022-23</td>\n",
       "      <td>2023-01-07</td>\n",
       "      <td>0-17 years (Children)</td>\n",
       "      <td>All</td>\n",
       "      <td>AI/AN, non-Hispanic</td>\n",
       "      <td>0.0</td>\n",
       "      <td>0.0</td>\n",
       "      <td>1</td>\n",
       "      <td>Saturday</td>\n",
       "      <td>0</td>\n",
       "    </tr>\n",
       "    <tr>\n",
       "      <th>3</th>\n",
       "      <td>Utah</td>\n",
       "      <td>2022-23</td>\n",
       "      <td>2023-01-07</td>\n",
       "      <td>0-17 years (Children)</td>\n",
       "      <td>All</td>\n",
       "      <td>Black, non-Hispanic</td>\n",
       "      <td>0.0</td>\n",
       "      <td>0.0</td>\n",
       "      <td>1</td>\n",
       "      <td>Saturday</td>\n",
       "      <td>0</td>\n",
       "    </tr>\n",
       "    <tr>\n",
       "      <th>4</th>\n",
       "      <td>Utah</td>\n",
       "      <td>2022-23</td>\n",
       "      <td>2023-01-07</td>\n",
       "      <td>0-17 years (Children)</td>\n",
       "      <td>All</td>\n",
       "      <td>White, non-Hispanic</td>\n",
       "      <td>3.9</td>\n",
       "      <td>3.9</td>\n",
       "      <td>1</td>\n",
       "      <td>Saturday</td>\n",
       "      <td>0</td>\n",
       "    </tr>\n",
       "  </tbody>\n",
       "</table>\n",
       "</div>"
      ],
      "text/plain": [
       "  state   season week_ending_date           age_category  sex  \\\n",
       "0  Utah  2022-23       2023-01-07  0-17 years (Children)  All   \n",
       "1  Utah  2022-23       2023-01-07  0-17 years (Children)  All   \n",
       "2  Utah  2022-23       2023-01-07  0-17 years (Children)  All   \n",
       "3  Utah  2022-23       2023-01-07  0-17 years (Children)  All   \n",
       "4  Utah  2022-23       2023-01-07  0-17 years (Children)  All   \n",
       "\n",
       "                  race  rate  cumulative_rate  month   weekday  hispanic  \n",
       "0             Hispanic  12.7             12.7      1  Saturday         1  \n",
       "1   A/PI, non-Hispanic   0.0              0.0      1  Saturday         0  \n",
       "2  AI/AN, non-Hispanic   0.0              0.0      1  Saturday         0  \n",
       "3  Black, non-Hispanic   0.0              0.0      1  Saturday         0  \n",
       "4  White, non-Hispanic   3.9              3.9      1  Saturday         0  "
      ]
     },
     "execution_count": 16,
     "metadata": {},
     "output_type": "execute_result"
    }
   ],
   "source": [
    "df.head()"
   ]
  },
  {
   "cell_type": "code",
   "execution_count": 17,
   "metadata": {},
   "outputs": [
    {
     "name": "stdout",
     "output_type": "stream",
     "text": [
      "state\n",
      "California     0.786583\n",
      "Colorado       2.204000\n",
      "Connecticut    1.246833\n",
      "Georgia        1.109333\n",
      "Maryland       1.134333\n",
      "Michigan       1.264833\n",
      "Minnesota      1.311500\n",
      "New Mexico     3.134500\n",
      "New York       1.691500\n",
      "Oregon         0.676250\n",
      "Tennessee      0.976333\n",
      "Utah           1.635417\n",
      "Name: rate, dtype: float64\n",
      "race\n",
      "A/PI, non-Hispanic     1.043389\n",
      "AI/AN, non-Hispanic    1.814056\n",
      "All                    1.408574\n",
      "Black, non-Hispanic    1.677111\n",
      "Hispanic               1.413833\n",
      "White, non-Hispanic    1.273500\n",
      "Name: rate, dtype: float64\n"
     ]
    }
   ],
   "source": [
    "mean_rate_by_state = df.groupby('state')['rate'].mean()\n",
    "mean_rate_by_race = df.groupby('race')['rate'].mean()\n",
    "print(mean_rate_by_state)\n",
    "print(mean_rate_by_race)"
   ]
  },
  {
   "cell_type": "code",
   "execution_count": 18,
   "metadata": {},
   "outputs": [
    {
     "data": {
      "image/png": "[encoded data removed]",
      "text/plain": [
       "<Figure size 864x432 with 1 Axes>"
      ]
     },
     "metadata": {
      "needs_background": "light"
     },
     "output_type": "display_data"
    }
   ],
   "source": [
    "# Plotting\n",
    "custom_palette = {'0-17 years (Children)': 'blue', '18+ years (Adults)': 'pink'}\n",
    "\n",
    "plt.figure(figsize=(12, 6))\n",
    "sns.barplot(data=filtered_df, x='state', y='rate', hue='age_category', palette=custom_palette)\n",
    "for p in plt.gca().patches:\n",
    "    plt.gca().annotate(f'{p.get_height():.2f}', (p.get_x() + p.get_width() / 2., p.get_height()),\n",
    "                       ha='center', va='center', fontsize=9, color='black', xytext=(0, 5),\n",
    "                       textcoords='offset points')\n",
    "\n",
    "plt.title('Rate by Age Group and State')\n",
    "plt.xlabel('State')\n",
    "plt.ylabel('Rate')\n",
    "plt.xticks(rotation=45)\n",
    "plt.tight_layout()\n",
    "plt.show()"
   ]
  },
  {
   "cell_type": "code",
   "execution_count": 19,
   "metadata": {},
   "outputs": [
    {
     "data": {
      "image/png": "[encoded data removed]",
      "text/plain": [
       "<Figure size 864x432 with 1 Axes>"
      ]
     },
     "metadata": {
      "needs_background": "light"
     },
     "output_type": "display_data"
    }
   ],
   "source": [
    "# Plotting\n",
    "plt.figure(figsize=(12, 6))\n",
    "avg_rate_by_week = df.groupby('week_ending_date')['rate'].mean()\n",
    "plt.plot(avg_rate_by_week.index, avg_rate_by_week.values, marker='o', linestyle='-')\n",
    "\n",
    "plt.title('Average Rate by Week Ending Date')\n",
    "plt.xlabel('Week Ending Date')\n",
    "plt.ylabel('Average Rate')\n",
    "plt.xticks(rotation=45)\n",
    "plt.tight_layout()\n",
    "plt.show()"
   ]
  },
  {
   "attachments": {},
   "cell_type": "markdown",
   "metadata": {},
   "source": [
    "RSV rates are highes tin New Mexico and Colorado in the Children age group."
   ]
  },
  {
   "cell_type": "code",
   "execution_count": 20,
   "metadata": {},
   "outputs": [
    {
     "data": {
      "image/png": "[encoded data removed]",
      "text/plain": [
       "<Figure size 864x432 with 1 Axes>"
      ]
     },
     "metadata": {
      "needs_background": "light"
     },
     "output_type": "display_data"
    }
   ],
   "source": [
    "# Plotting\n",
    "plt.figure(figsize=(12, 6))\n",
    "sns.scatterplot(x='week_ending_date', y='cumulative_rate', data=df, hue='age_category', palette=custom_palette)\n",
    "\n",
    "plt.title('Cumulative Rate by Week Ending Date')\n",
    "plt.xlabel('Week Ending Date')\n",
    "plt.ylabel('Cumulative Rate')\n",
    "plt.xticks(rotation=45)\n",
    "plt.tight_layout()\n",
    "plt.show()"
   ]
  },
  {
   "cell_type": "code",
   "execution_count": 21,
   "metadata": {},
   "outputs": [],
   "source": [
    "df.to_csv('RSV_data.csv', index=False)"
   ]
  }
 ],
 "metadata": {
  "kernelspec": {
   "display_name": "Python 3",
   "language": "python",
   "name": "python3"
  },
  "language_info": {
   "codemirror_mode": {
    "name": "ipython",
    "version": 3
   },
   "file_extension": ".py",
   "mimetype": "text/x-python",
   "name": "python",
   "nbconvert_exporter": "python",
   "pygments_lexer": "ipython3",
   "version": "3.10.4"
  },
  "orig_nbformat": 4
 },
 "nbformat": 4,
 "nbformat_minor": 2
}
